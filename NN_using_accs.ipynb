{
 "cells": [
  {
   "cell_type": "code",
   "execution_count": 1,
   "metadata": {},
   "outputs": [],
   "source": [
    "#Trying to fit an NN with strains and accumulation\n",
    "#Trying for only 1 strain component\n",
    "#If this doesn't work , i can peacefully follow that guy.\n",
    "\n",
    "import tensorflow as tf\n",
    "import numpy as np\n",
    "def accumulation_generator(strains):\n",
    "    \"\"\"\n",
    "    Generates accumulation vector of strains, used to capture path dependent behaviour.\n",
    "    This is better option as it removes requirement of time(accumulation is basically essence of path dependency)\n",
    "    and also is universal.\n",
    "    \n",
    "    \n",
    "    \n",
    "    Why I think adding time is not a good idea?\n",
    "    if i train NN for strains at times 1,2.. but want to predict for strains at 0.1,0.2...? The predictions will be meaningless\n",
    "    Using accumulations solves this problem since we deal only previously occured strains.\n",
    "    \"\"\"\n",
    "    length = len(strains)\n",
    "    print(length)\n",
    "    accumulation = np.array([])\n",
    "    for i in range(0,length):\n",
    "        if i== 1 or i == 0:\n",
    "            accumulation=np.append(accumulation,np.zeros(6))\n",
    "            next\n",
    "        else:\n",
    "            temp = 0\n",
    "            for j in range(2,i+1):\n",
    "                temp=temp+np.abs(strains[j-1] - strains[j-2])\n",
    "            accumulation=np.append(accumulation,np.array(temp))\n",
    "\n",
    "    return np.array(accumulation)\n",
    "        \n",
    "node_list = []\n",
    "for i in [0,36*3,36*5]:\n",
    "    nodes_first_layer = [1,4,6,18,19,31,33,36]\n",
    "    temp=[]\n",
    "    temp = np.array(nodes_first_layer) + i\n",
    "    print(temp)\n",
    "    for j in temp:\n",
    "        node_list.append(j)\n",
    "for i in [36*1,36*4]:\n",
    "    nodes_first_layer = [8,11,26,29]\n",
    "    temp=[]\n",
    "    temp = np.array(nodes_first_layer) + i\n",
    "    print(temp)\n",
    "    for j in temp:\n",
    "        node_list.append(j)\n",
    "for i in [36*2,36*3]:\n",
    "    nodes_first_layer = [15,16,21,22]\n",
    "    temp=[]\n",
    "    temp = np.array(nodes_first_layer) + i\n",
    "    print(temp)\n",
    "    for j in temp:\n",
    "        node_list.append(j)\n",
    "additional_nodes=[16,16+(36*5),99,9+(36*3),20+(36*3),27+(36*3),23+(36*3),15+36,22+144]\n",
    "additional_nodes.sort()\n",
    "\n",
    "validational_nodes=[9+36,20+36,28+36,17+36,9+144,20+144,28+144,17+144,2,215,96]\n",
    "validational_nodes.sort()\n",
    "\n",
    "node_list.extend(additional_nodes)\n",
    "node_list.extend(validational_nodes)\n",
    "node_list.sort()"
   ]
  },
  {
   "cell_type": "code",
   "execution_count": 2,
   "metadata": {},
   "outputs": [],
   "source": [
    "x=[]\n",
    "y=[]\n"
   ]
  },
  {
   "cell_type": "code",
   "execution_count": 3,
   "metadata": {},
   "outputs": [
    {
     "name": "stdout",
     "output_type": "stream",
     "text": [
      "10\n",
      "10\n",
      "10\n",
      "10\n",
      "10\n",
      "10\n",
      "10\n",
      "10\n",
      "10\n",
      "10\n",
      "10\n",
      "10\n",
      "10\n",
      "10\n",
      "10\n",
      "10\n",
      "10\n",
      "10\n",
      "10\n",
      "10\n",
      "10\n",
      "10\n",
      "10\n",
      "10\n",
      "10\n",
      "10\n",
      "10\n",
      "10\n",
      "10\n",
      "10\n",
      "10\n",
      "10\n",
      "10\n",
      "10\n",
      "10\n",
      "10\n",
      "10\n",
      "10\n",
      "10\n",
      "10\n"
     ]
    }
   ],
   "source": [
    "\n",
    "loading = np.genfromtxt('/home/vemu_sa/Downloads/DummyFE2Dataset_v01/Input/CompleteInput_60Nodes_6timesteps.txt',skip_header=1)\n",
    "#accumulations = accumulation_generator(loading)\n",
    "#x=np.array_split(np.append(loading,accumulations.reshape((10,6)),axis=1),10)\n",
    "for j in x:\n",
    "    x.append(j)"
   ]
  },
  {
   "cell_type": "code",
   "execution_count": 4,
   "metadata": {},
   "outputs": [
    {
     "name": "stdout",
     "output_type": "stream",
     "text": [
      "10\n"
     ]
    }
   ],
   "source": [
    "for i in [99]:\n",
    "    loading = np.loadtxt('/home/vemu_sa/Desktop/inputs_fe2/Loadingpaths_Nodes_sampling/loadingpath_node{}'.format(i))\n",
    "    loading = np.delete(loading,0,1)\n",
    "    accumulations = accumulation_generator(loading)\n",
    "    x=np.array_split(np.append(loading,accumulations.reshape((10,6)),axis=1),10)\n",
    "    for j in x:\n",
    "        x_test.append(j)"
   ]
  },
  {
   "cell_type": "code",
   "execution_count": 5,
   "metadata": {},
   "outputs": [],
   "source": [
    "for i in node_list:\n",
    "    loading = np.loadtxt('/home/vemu_sa/Desktop/inputs_fe2/Loadingpaths_Nodes_sampling/strain_{}'.format(i))\n",
    "    loading = loading[:,2]\n",
    "    x = np.array_split(loading,10)\n",
    "    for j in x:\n",
    "        y_train.append(j.reshape((1,588)))\n",
    "for i in [99]:\n",
    "    loading = np.loadtxt('/home/vemu_sa/Desktop/inputs_fe2/Loadingpaths_Nodes_sampling/strain_{}'.format(i))\n",
    "    loading = loading[:,2]\n",
    "    x = np.array_split(loading,10)\n",
    "    for j in x:\n",
    "        y_test.append(j.reshape((1,588)))\n"
   ]
  },
  {
   "cell_type": "code",
   "execution_count": 6,
   "metadata": {},
   "outputs": [],
   "source": [
    "len(x_test)==len(y_test)\n",
    "len(x_train)==len(y_train)\n",
    "x_train=np.array(x_train)\n",
    "y_train=np.array(y_train)\n",
    "x_test=np.array(x_test)\n",
    "y_test=np.array(y_test)"
   ]
  },
  {
   "cell_type": "code",
   "execution_count": null,
   "metadata": {},
   "outputs": [],
   "source": [
    "\n"
   ]
  },
  {
   "cell_type": "code",
   "execution_count": null,
   "metadata": {},
   "outputs": [],
   "source": [
    "from tensorflow.keras import Sequential\n",
    "from tensorflow.keras.layers import Dense,Flatten,Dropout\n",
    "model = Sequential()\n",
    "model.add(Dense(100,activation='relu'))\n",
    "model.add(Dropout(0.2))\n",
    "model.add(Dense(100,activation='relu'))\n",
    "model.add(Dropout(0.2))\n",
    "model.add(Dense(100,activation='relu'))\n",
    "model.add(Dropout(0.2))\n",
    "model.add(Dense(588))\n",
    "\n",
    "model.compile(loss='mse',optimizer='adam',metrics=['mse'])"
   ]
  },
  {
   "cell_type": "code",
   "execution_count": null,
   "metadata": {},
   "outputs": [],
   "source": [
    "\n",
    "\n",
    "def fit_model(model):\n",
    "    early_stop = tf.keras.callbacks.EarlyStopping(monitor='val_loss',patience=200)\n",
    "    history = model.fit(x_train,y_train,epochs=2000,callbacks=[early_stop],\n",
    "                       validation_data=(x_test,y_test),batch_size=1)\n",
    "    return history"
   ]
  },
  {
   "cell_type": "code",
   "execution_count": null,
   "metadata": {},
   "outputs": [],
   "source": [
    "history = fit_model(model)"
   ]
  },
  {
   "cell_type": "code",
   "execution_count": null,
   "metadata": {},
   "outputs": [],
   "source": [
    "import matplotlib.pyplot as plt\n",
    "\n",
    "plt.figure(figsize=(10,6))\n",
    "plt.plot(history.history['loss'])\n",
    "plt.plot(history.history['val_loss'])\n",
    "plt.ylabel('loss')\n",
    "plt.xlabel('epochs')\n",
    "plt.legend(['Train loss','validation loss'], loc='upper right')"
   ]
  },
  {
   "cell_type": "code",
   "execution_count": null,
   "metadata": {},
   "outputs": [],
   "source": [
    "nodes=np.arange(1,589,1)\n",
    "plt.scatter(nodes,y_test[-1],label='Real')\n",
    "y=model.predict(x_test[-1])\n",
    "plt.scatter(nodes,y,label='Prediction')\n",
    "plt.title('Strain component 3-normalized')\n",
    "plt.legend()\n"
   ]
  },
  {
   "cell_type": "code",
   "execution_count": null,
   "metadata": {},
   "outputs": [],
   "source": [
    "error = y_test[-1] - y\n",
    "\n",
    "plt.violinplot([y.reshape((588,)),y_test[-1].reshape((588,))])\n",
    "\n",
    "np.average(error)"
   ]
  },
  {
   "cell_type": "code",
   "execution_count": null,
   "metadata": {},
   "outputs": [],
   "source": []
  }
 ],
 "metadata": {
  "kernelspec": {
   "display_name": "tfgpu",
   "language": "python",
   "name": "tfgpu"
  },
  "language_info": {
   "codemirror_mode": {
    "name": "ipython",
    "version": 3
   },
   "file_extension": ".py",
   "mimetype": "text/x-python",
   "name": "python",
   "nbconvert_exporter": "python",
   "pygments_lexer": "ipython3",
   "version": "3.7.10"
  }
 },
 "nbformat": 4,
 "nbformat_minor": 4
}
